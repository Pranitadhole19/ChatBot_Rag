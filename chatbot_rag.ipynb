{
 "cells": [
  {
   "cell_type": "markdown",
   "metadata": {},
   "source": [
    "# 🤖 RAG-Based ChatBot for PDF Using LangChain + FAISS"
   ]
  },
  {
   "cell_type": "code",
   "execution_count": null,
   "metadata": {},
   "outputs": [],
   "source": [
    "# 📦 Install required packages (Run once)\n",
    "!pip install langchain faiss-cpu sentence-transformers pypdf ipywidgets"
   ]
  },
  {
   "cell_type": "code",
   "execution_count": null,
   "metadata": {},
   "outputs": [],
   "source": [
    "# 📂 Imports\n",
    "from utils import Encoder, FaissDb, load_and_split_pdfs\n",
    "import ipywidgets as widgets\n",
    "from IPython.display import display"
   ]
  },
  {
   "cell_type": "code",
   "execution_count": null,
   "metadata": {},
   "outputs": [],
   "source": [
    "# 📄 Upload your PDF\n",
    "upload_widget = widgets.FileUpload(accept='.pdf', multiple=True)\n",
    "display(upload_widget)"
   ]
  },
  {
   "cell_type": "code",
   "execution_count": null,
   "metadata": {},
   "outputs": [],
   "source": [
    "# 🧠 Load and embed documents\n",
    "import os\n",
    "\n",
    "# Save uploaded PDFs\n",
    "pdf_paths = []\n",
    "for file in upload_widget.value:\n",
    "    path = f\"temp_{file}\"\n",
    "    with open(path, 'wb') as f:\n",
    "        f.write(upload_widget.value[file]['content'])\n",
    "    pdf_paths.append(path)\n",
    "\n",
    "documents = load_and_split_pdfs(pdf_paths)\n",
    "encoder = Encoder()\n",
    "db = FaissDb(documents, encoder.embedding_function)"
   ]
  },
  {
   "cell_type": "code",
   "execution_count": null,
   "metadata": {},
   "outputs": [],
   "source": [
    "# 💬 Ask a question\n",
    "question_box = widgets.Text(\n",
    "    value='',\n",
    "    placeholder='Ask a question from the uploaded PDF...',\n",
    "    description='❓ Ask:',\n",
    "    disabled=False,\n",
    "    layout=widgets.Layout(width='100%')\n",
    ")\n",
    "display(question_box)\n",
    "\n",
    "def on_submit(sender):\n",
    "    query = question_box.value\n",
    "    results = db.similarity_search(query)\n",
    "    print("\n📚 Top Matching Chunks:\n")\n",
    "    for i, doc in enumerate(results, 1):\n",
    "        print(f"{i}. {doc.page_content[:500]}\n")\n",
    "    question_box.value = ''\n",
    "\n",
    "question_box.on_submit(on_submit)"
   ]
  }
 ],
 "metadata": {
  "kernelspec": {
   "display_name": "Python 3",
   "language": "python",
   "name": "python3"
  },
  "language_info": {
   "name": "python"
  }
 },
 "nbformat": 4,
 "nbformat_minor": 5
}